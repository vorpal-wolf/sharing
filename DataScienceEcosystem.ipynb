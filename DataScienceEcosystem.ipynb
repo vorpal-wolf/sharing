{
 "cells": [
  {
   "cell_type": "markdown",
   "id": "8458e305-31bc-4ac7-81aa-45c9b5709ad5",
   "metadata": {},
   "source": [
    "# Data Science Tools and Ecosystem"
   ]
  },
  {
   "cell_type": "markdown",
   "id": "4ff81697-52b8-4344-bf37-87838eeeb31c",
   "metadata": {},
   "source": [
    "In this notebook, Data Science Tools and Ecosystem are summarized."
   ]
  },
  {
   "cell_type": "markdown",
   "id": "597a1d6e-0af5-4efd-90a0-617eededc789",
   "metadata": {},
   "source": [
    "**Objectives:**\n",
    "- List some popular languages uses by Data Scientists\n",
    "- List some common libraries used by Data Scientists\n",
    "- List some open-source development environments used in data science\n",
    "- Show some examples of evaluating arithmetic expressions in Python"
   ]
  },
  {
   "cell_type": "markdown",
   "id": "f3ca949b-c513-4d22-ab1f-15b6d0f7de33",
   "metadata": {},
   "source": [
    "Some of the popular languages that Data Scientists use are:\n",
    "1. Python\n",
    "2. R\n",
    "3. SQL"
   ]
  },
  {
   "cell_type": "markdown",
   "id": "d3f63263-f123-4cfa-8ea5-1e1157da4d93",
   "metadata": {},
   "source": [
    "Some of the commonly used libraries used by Data Scientists include:\n",
    "1. Pandas\n",
    "2. Numpy\n",
    "3. Matplotlib"
   ]
  },
  {
   "cell_type": "markdown",
   "id": "1239d2ba-4e8c-4b34-b38c-fdc1194f7674",
   "metadata": {},
   "source": [
    "| Data Science Tools |\n",
    "| --- |\n",
    "| Jupyter Notebooks |\n",
    "| R Studio |\n",
    "| Visual Studio |"
   ]
  },
  {
   "cell_type": "markdown",
   "id": "b733a5e3-685e-4fff-b155-a53900b7ef00",
   "metadata": {},
   "source": [
    "### Below are a few examples of evaluating arithmetic expressions in Python"
   ]
  },
  {
   "cell_type": "code",
   "execution_count": 1,
   "id": "263eeee3-df75-49ef-9052-699004216e0d",
   "metadata": {
    "tags": []
   },
   "outputs": [
    {
     "data": {
      "text/plain": [
       "17"
      ]
     },
     "execution_count": 1,
     "metadata": {},
     "output_type": "execute_result"
    }
   ],
   "source": [
    "# This a simple arithmetic expression to mutiply then add integers\n",
    "(3*4)+5"
   ]
  },
  {
   "cell_type": "code",
   "execution_count": 2,
   "id": "2d6cb1aa-64f8-4b81-93b9-e71de62cde04",
   "metadata": {
    "tags": []
   },
   "outputs": [
    {
     "data": {
      "text/plain": [
       "3.3333333333333335"
      ]
     },
     "execution_count": 2,
     "metadata": {},
     "output_type": "execute_result"
    }
   ],
   "source": [
    "# This will convert 200 minutes to hours by diving by 60\n",
    "200/60"
   ]
  },
  {
   "cell_type": "markdown",
   "id": "851c72bd-67de-4b08-913f-b4d27701b78a",
   "metadata": {},
   "source": [
    "## Author\n",
    "Daniel Nunez"
   ]
  }
 ],
 "metadata": {
  "kernelspec": {
   "display_name": "Python",
   "language": "python",
   "name": "conda-env-python-py"
  },
  "language_info": {
   "codemirror_mode": {
    "name": "ipython",
    "version": 3
   },
   "file_extension": ".py",
   "mimetype": "text/x-python",
   "name": "python",
   "nbconvert_exporter": "python",
   "pygments_lexer": "ipython3",
   "version": "3.7.12"
  }
 },
 "nbformat": 4,
 "nbformat_minor": 5
}
